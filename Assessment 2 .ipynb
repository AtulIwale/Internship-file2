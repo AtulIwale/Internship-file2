{
 "cells": [
  {
   "cell_type": "markdown",
   "id": "38a04706",
   "metadata": {},
   "source": [
    "21) D"
   ]
  },
  {
   "cell_type": "markdown",
   "id": "f5d7cdb9",
   "metadata": {},
   "source": [
    "22) D"
   ]
  },
  {
   "cell_type": "markdown",
   "id": "a63eba7d",
   "metadata": {},
   "source": [
    "23) B"
   ]
  },
  {
   "cell_type": "markdown",
   "id": "ef8db67c",
   "metadata": {},
   "source": [
    "24) D"
   ]
  },
  {
   "cell_type": "markdown",
   "id": "beff75ef",
   "metadata": {},
   "source": [
    "25) D"
   ]
  },
  {
   "cell_type": "markdown",
   "id": "ac826c6d",
   "metadata": {},
   "source": [
    "26) B C D E"
   ]
  },
  {
   "cell_type": "markdown",
   "id": "a787b984",
   "metadata": {},
   "source": [
    "27) C"
   ]
  },
  {
   "cell_type": "markdown",
   "id": "02693ebf",
   "metadata": {},
   "source": [
    "28) C"
   ]
  },
  {
   "cell_type": "markdown",
   "id": "09a8f1ae",
   "metadata": {},
   "source": [
    "29) B"
   ]
  },
  {
   "cell_type": "markdown",
   "id": "04f4616f",
   "metadata": {},
   "source": [
    "30) B"
   ]
  }
 ],
 "metadata": {
  "kernelspec": {
   "display_name": "Python 3 (ipykernel)",
   "language": "python",
   "name": "python3"
  },
  "language_info": {
   "codemirror_mode": {
    "name": "ipython",
    "version": 3
   },
   "file_extension": ".py",
   "mimetype": "text/x-python",
   "name": "python",
   "nbconvert_exporter": "python",
   "pygments_lexer": "ipython3",
   "version": "3.9.12"
  }
 },
 "nbformat": 4,
 "nbformat_minor": 5
}
